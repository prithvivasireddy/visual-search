{
 "cells": [
  {
   "cell_type": "code",
   "execution_count": 1,
   "metadata": {},
   "outputs": [
    {
     "name": "stderr",
     "output_type": "stream",
     "text": [
      "c:\\Users\\mohit\\anaconda3\\envs\\snowpark\\lib\\site-packages\\pinecone\\index.py:4: TqdmExperimentalWarning: Using `tqdm.autonotebook.tqdm` in notebook mode. Use `tqdm.tqdm` instead to force console mode (e.g. in jupyter console)\n",
      "  from tqdm.autonotebook import tqdm\n"
     ]
    }
   ],
   "source": [
    "import pandas as pd\n",
    "import os\n",
    "from pathlib import Path\n",
    "from PIL import Image\n",
    "from img2vec_pytorch import Img2Vec\n",
    "import numpy as np\n",
    "import pinecone\n",
    "import codecs\n",
    "import json\n",
    "import tqdm\n",
    "\n",
    "from torchvision import transforms as ts \n",
    "import torchvision.models as models"
   ]
  },
  {
   "cell_type": "code",
   "execution_count": 37,
   "metadata": {},
   "outputs": [],
   "source": [
    "main_path='./static/img/'\n",
    "depts=[]\n",
    "genders=[]\n",
    "img_paths=[]\n",
    "\n",
    "for chromo in os.listdir(main_path):\n",
    "    dept_path=main_path+chromo\n",
    "    if \".jpg\" not in dept_path:\n",
    "        for dept in os.listdir(dept_path):\n",
    "            dept_img_path=dept_path+\"/\"+dept\n",
    "            for imgs in os.listdir(dept_img_path):\n",
    "                    img_path=dept_img_path+\"/\"+imgs\n",
    "                    img_paths.append(img_path)\n",
    "                    depts.append(dept)\n",
    "                    genders.append(chromo)"
   ]
  },
  {
   "cell_type": "code",
   "execution_count": 22,
   "metadata": {},
   "outputs": [],
   "source": [
    "main_path='./static/img/women/'\n",
    "depts=[]\n",
    "genders=[]\n",
    "img_paths=[]\n",
    "for dept in os.listdir(\"./static/img/women/\"):\n",
    "        dept_img_path=main_path+\"/\"+dept\n",
    "        for imgs in os.listdir(dept_img_path):\n",
    "                img_path=dept_img_path+\"/\"+imgs\n",
    "                img_paths.append(img_path)\n",
    "                depts.append(dept)"
   ]
  },
  {
   "cell_type": "code",
   "execution_count": 3,
   "metadata": {},
   "outputs": [
    {
     "name": "stdout",
     "output_type": "stream",
     "text": [
      "101\n"
     ]
    }
   ],
   "source": [
    "# img_paths=[]\n",
    "# for img_path in sorted(Path(\"./static/img/women/cardigan\").glob(\"*.jpg\")):\n",
    "#         img_paths.append(str(img_path))\n",
    "# print(len(img_paths))"
   ]
  },
  {
   "cell_type": "code",
   "execution_count": 8,
   "metadata": {},
   "outputs": [
    {
     "name": "stderr",
     "output_type": "stream",
     "text": [
      "c:\\Users\\mohit\\anaconda3\\envs\\snowpark\\lib\\site-packages\\torchvision\\models\\_utils.py:208: UserWarning: The parameter 'pretrained' is deprecated since 0.13 and may be removed in the future, please use 'weights' instead.\n",
      "  warnings.warn(\n",
      "c:\\Users\\mohit\\anaconda3\\envs\\snowpark\\lib\\site-packages\\torchvision\\models\\_utils.py:223: UserWarning: Arguments other than a weight enum or `None` for 'weights' are deprecated since 0.13 and may be removed in the future. The current behavior is equivalent to passing `weights=SqueezeNet1_0_Weights.IMAGENET1K_V1`. You can also use `weights=SqueezeNet1_0_Weights.DEFAULT` to get the most up-to-date weights.\n",
      "  warnings.warn(msg)\n"
     ]
    }
   ],
   "source": [
    "class ImageEmbedder:\n",
    "    def __init__(self):\n",
    "        self.normalize=ts.Normalize(\n",
    "            mean=[0.485,0.456,0.406],std=[0.229,0.224,0.225]\n",
    "        )\n",
    "        self.model=models.squeezenet1_0(pretrained=True,progress=False)\n",
    "\n",
    "    def embed(self,image_file_name):\n",
    "        image=Image.open(image_file_name)\n",
    "        image=ts.Resize(256)(image)\n",
    "        image=ts.CenterCrop(224)(image)\n",
    "        tensor=ts.ToTensor()(image)\n",
    "        tensor=self.normalize(tensor).reshape(1,3,224,224)\n",
    "        vector=self.model(tensor).cpu().detach().numpy().flatten().tolist()\n",
    "        return vector\n",
    "    \n",
    "image_embedder= ImageEmbedder()"
   ]
  },
  {
   "cell_type": "code",
   "execution_count": 42,
   "metadata": {},
   "outputs": [],
   "source": [
    "df=pd.DataFrame(img_paths,columns=['image_file_name'])\n",
    "df['embedding']=[\n",
    "    image_embedder.embed(file_name) for file_name in img_paths\n",
    "]"
   ]
  },
  {
   "cell_type": "code",
   "execution_count": 44,
   "metadata": {},
   "outputs": [],
   "source": [
    "json_dat=[]\n",
    "for id,values,gender,dept in zip(df.image_file_name,df.embedding,genders,depts):\n",
    "    dic={'id':id,'values':values,'metadata':{'gender':gender,'dept':dept}}\n",
    "    json_dat.append(dic)"
   ]
  },
  {
   "cell_type": "code",
   "execution_count": 45,
   "metadata": {},
   "outputs": [],
   "source": [
    "\n",
    "pinecone.init('18688bbc-9aa5-4be2-a87d-29c18cede436',environment='us-west4-gcp')\n",
    "# pinecone.create_index('img-vectors',dimension=1000)\n",
    "\n",
    "INDEX_NAME='img-vector'\n",
    "\n",
    "pinecone.create_index(INDEX_NAME,dimension=1000,metric=\"euclidean\",shards=1)\n",
    "index=pinecone.Index(INDEX_NAME)"
   ]
  },
  {
   "cell_type": "code",
   "execution_count": 56,
   "metadata": {},
   "outputs": [
    {
     "data": {
      "text/plain": [
       "{'upserted_count': 439}"
      ]
     },
     "execution_count": 56,
     "metadata": {},
     "output_type": "execute_result"
    }
   ],
   "source": [
    "index.upsert(vectors=json_dat[0:500])\n",
    "index.upsert(vectors=json_dat[500:])"
   ]
  },
  {
   "cell_type": "code",
   "execution_count": 29,
   "metadata": {},
   "outputs": [
    {
     "name": "stdout",
     "output_type": "stream",
     "text": [
      "[{'id': './static/img/women//Jackets_Coats/Jackets_Coats67.jpg',\n",
      " 'metadata': {'dept': 'Jackets_Coats', 'gender': 'WOMEN'},\n",
      " 'score': 2488.67969,\n",
      " 'values': []}, {'id': './static/img/women//Dresses/Dresses4.jpg',\n",
      " 'metadata': {'dept': 'Dresses', 'gender': 'WOMEN'},\n",
      " 'score': 2599.88281,\n",
      " 'values': []}, {'id': './static/img/women//Dresses/Dresses96.jpg',\n",
      " 'metadata': {'dept': 'Dresses', 'gender': 'WOMEN'},\n",
      " 'score': 2966.92969,\n",
      " 'values': []}, {'id': './static/img/women//Cardigans/Cardigans90.jpg',\n",
      " 'metadata': {'dept': 'Cardigans', 'gender': 'WOMEN'},\n",
      " 'score': 3013.84375,\n",
      " 'values': []}, {'id': './static/img/women//Jackets_Coats/Jackets_Coats76.jpg',\n",
      " 'metadata': {'dept': 'Jackets_Coats', 'gender': 'WOMEN'},\n",
      " 'score': 3044.28906,\n",
      " 'values': []}]\n"
     ]
    }
   ],
   "source": [
    "vectors=image_embedder.embed(r'static\\uploaded\\Shirts_Polos679.jpg')\n",
    "output=index.query(vectors,top_k=5,include_metadata=True)\n",
    "print(output.get('matches'))"
   ]
  },
  {
   "cell_type": "code",
   "execution_count": 17,
   "metadata": {},
   "outputs": [
    {
     "data": {
      "text/plain": [
       "'static\\\\img\\\\women\\\\cardigan\\\\Cardigans89.jpg'"
      ]
     },
     "execution_count": 17,
     "metadata": {},
     "output_type": "execute_result"
    }
   ],
   "source": [
    "match=output.get('matches')\n",
    "match[0].get('id')"
   ]
  },
  {
   "cell_type": "code",
   "execution_count": null,
   "metadata": {},
   "outputs": [],
   "source": []
  }
 ],
 "metadata": {
  "kernelspec": {
   "display_name": "snowpark",
   "language": "python",
   "name": "python3"
  },
  "language_info": {
   "codemirror_mode": {
    "name": "ipython",
    "version": 3
   },
   "file_extension": ".py",
   "mimetype": "text/x-python",
   "name": "python",
   "nbconvert_exporter": "python",
   "pygments_lexer": "ipython3",
   "version": "3.8.16"
  },
  "orig_nbformat": 4,
  "vscode": {
   "interpreter": {
    "hash": "311f4d406e6813dfa7a817cecee9de717d5b714616cba37c6aa9d26bcf70b03f"
   }
  }
 },
 "nbformat": 4,
 "nbformat_minor": 2
}
